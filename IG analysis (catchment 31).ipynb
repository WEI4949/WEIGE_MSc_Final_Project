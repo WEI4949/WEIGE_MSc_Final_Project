{
 "cells": [
  {
   "cell_type": "code",
   "execution_count": 2,
   "metadata": {
    "colab": {
     "base_uri": "https://localhost:8080/"
    },
    "id": "1I6_UucwuD0x",
    "outputId": "d641e9e0-f267-4310-dfef-32265fcfc102"
   },
   "outputs": [
    {
     "name": "stdout",
     "output_type": "stream",
     "text": [
      "Mounted at /content/drive\n"
     ]
    }
   ],
   "source": [
    "from google.colab import drive\n",
    "drive.mount('/content/drive')"
   ]
  },
  {
   "cell_type": "code",
   "execution_count": 3,
   "metadata": {
    "colab": {
     "base_uri": "https://localhost:8080/"
    },
    "id": "8WZ0NZncufnb",
    "outputId": "acc98d37-4f4c-4b66-a181-2d316d15fe11"
   },
   "outputs": [
    {
     "name": "stdout",
     "output_type": "stream",
     "text": [
      "total 8.0K\n",
      "drwx------ 5 root root 4.0K Aug  5 11:09 drive\n",
      "drwxr-xr-x 1 root root 4.0K Jul 29 13:36 sample_data\n"
     ]
    }
   ],
   "source": [
    "!ls -lh /content/"
   ]
  },
  {
   "cell_type": "code",
   "execution_count": null,
   "metadata": {},
   "outputs": [],
   "source": [
    "import time\n",
    "start = time.time()\n",
    "\n",
    "!cp /content/drive/MyDrive/Df_Amz_all.csv /content/\n",
    "end = time.time()"
   ]
  },
  {
   "cell_type": "code",
   "execution_count": 5,
   "metadata": {
    "colab": {
     "base_uri": "https://localhost:8080/"
    },
    "id": "pkt45Fn3z-og",
    "outputId": "754f5c09-74c4-46d9-a3bd-fca7d2424a2f"
   },
   "outputs": [
    {
     "name": "stdout",
     "output_type": "stream",
     "text": [
      "total 26M\n",
      "-rw------- 1 root root  26M Aug  5 11:09 Df_Amz_all.csv\n",
      "drwx------ 5 root root 4.0K Aug  5 11:09 drive\n",
      "drwxr-xr-x 1 root root 4.0K Jul 29 13:36 sample_data\n"
     ]
    }
   ],
   "source": [
    "!ls -lh /content/"
   ]
  },
  {
   "cell_type": "code",
   "execution_count": null,
   "metadata": {},
   "outputs": [],
   "source": [
    "import os\n",
    "\n",
    "PROJECT_NAME = \"lstm_outputs\"  \n",
    "GLOBAL_OUTPUT_DIR = f\"/content/drive/MyDrive/Colab Notebooks/{PROJECT_NAME}\"\n",
    "\n",
    "subfolders = [\"models\", \"plots\", \"predictions\", \"histories\", \"metrics\", \"csv\"]\n",
    "\n",
    "for sub in subfolders:\n",
    "    os.makedirs(os.path.join(GLOBAL_OUTPUT_DIR, sub), exist_ok=True)"
   ]
  },
  {
   "cell_type": "code",
   "execution_count": 7,
   "metadata": {
    "colab": {
     "base_uri": "https://localhost:8080/"
    },
    "id": "-LPnxjkR0Mvk",
    "outputId": "0876bf19-cd6e-45da-b5d0-35cdc096f334"
   },
   "outputs": [
    {
     "name": "stdout",
     "output_type": "stream",
     "text": [
      "Requirement already satisfied: pandas in /usr/local/lib/python3.11/dist-packages (2.2.2)\n",
      "Requirement already satisfied: numpy in /usr/local/lib/python3.11/dist-packages (2.0.2)\n",
      "Requirement already satisfied: matplotlib in /usr/local/lib/python3.11/dist-packages (3.10.0)\n",
      "Requirement already satisfied: seaborn in /usr/local/lib/python3.11/dist-packages (0.13.2)\n",
      "Collecting hydroeval\n",
      "  Downloading hydroeval-0.1.0-py3-none-any.whl.metadata (4.8 kB)\n",
      "Requirement already satisfied: scikit-learn in /usr/local/lib/python3.11/dist-packages (1.6.1)\n",
      "Requirement already satisfied: tensorflow in /usr/local/lib/python3.11/dist-packages (2.18.0)\n",
      "Requirement already satisfied: python-dateutil>=2.8.2 in /usr/local/lib/python3.11/dist-packages (from pandas) (2.9.0.post0)\n",
      "Requirement already satisfied: pytz>=2020.1 in /usr/local/lib/python3.11/dist-packages (from pandas) (2025.2)\n",
      "Requirement already satisfied: tzdata>=2022.7 in /usr/local/lib/python3.11/dist-packages (from pandas) (2025.2)\n",
      "Requirement already satisfied: contourpy>=1.0.1 in /usr/local/lib/python3.11/dist-packages (from matplotlib) (1.3.2)\n",
      "Requirement already satisfied: cycler>=0.10 in /usr/local/lib/python3.11/dist-packages (from matplotlib) (0.12.1)\n",
      "Requirement already satisfied: fonttools>=4.22.0 in /usr/local/lib/python3.11/dist-packages (from matplotlib) (4.59.0)\n",
      "Requirement already satisfied: kiwisolver>=1.3.1 in /usr/local/lib/python3.11/dist-packages (from matplotlib) (1.4.8)\n",
      "Requirement already satisfied: packaging>=20.0 in /usr/local/lib/python3.11/dist-packages (from matplotlib) (25.0)\n",
      "Requirement already satisfied: pillow>=8 in /usr/local/lib/python3.11/dist-packages (from matplotlib) (11.3.0)\n",
      "Requirement already satisfied: pyparsing>=2.3.1 in /usr/local/lib/python3.11/dist-packages (from matplotlib) (3.2.3)\n",
      "Requirement already satisfied: scipy>=1.6.0 in /usr/local/lib/python3.11/dist-packages (from scikit-learn) (1.16.0)\n",
      "Requirement already satisfied: joblib>=1.2.0 in /usr/local/lib/python3.11/dist-packages (from scikit-learn) (1.5.1)\n",
      "Requirement already satisfied: threadpoolctl>=3.1.0 in /usr/local/lib/python3.11/dist-packages (from scikit-learn) (3.6.0)\n",
      "Requirement already satisfied: absl-py>=1.0.0 in /usr/local/lib/python3.11/dist-packages (from tensorflow) (1.4.0)\n",
      "Requirement already satisfied: astunparse>=1.6.0 in /usr/local/lib/python3.11/dist-packages (from tensorflow) (1.6.3)\n",
      "Requirement already satisfied: flatbuffers>=24.3.25 in /usr/local/lib/python3.11/dist-packages (from tensorflow) (25.2.10)\n",
      "Requirement already satisfied: gast!=0.5.0,!=0.5.1,!=0.5.2,>=0.2.1 in /usr/local/lib/python3.11/dist-packages (from tensorflow) (0.6.0)\n",
      "Requirement already satisfied: google-pasta>=0.1.1 in /usr/local/lib/python3.11/dist-packages (from tensorflow) (0.2.0)\n",
      "Requirement already satisfied: libclang>=13.0.0 in /usr/local/lib/python3.11/dist-packages (from tensorflow) (18.1.1)\n",
      "Requirement already satisfied: opt-einsum>=2.3.2 in /usr/local/lib/python3.11/dist-packages (from tensorflow) (3.4.0)\n",
      "Requirement already satisfied: protobuf!=4.21.0,!=4.21.1,!=4.21.2,!=4.21.3,!=4.21.4,!=4.21.5,<6.0.0dev,>=3.20.3 in /usr/local/lib/python3.11/dist-packages (from tensorflow) (5.29.5)\n",
      "Requirement already satisfied: requests<3,>=2.21.0 in /usr/local/lib/python3.11/dist-packages (from tensorflow) (2.32.3)\n",
      "Requirement already satisfied: setuptools in /usr/local/lib/python3.11/dist-packages (from tensorflow) (75.2.0)\n",
      "Requirement already satisfied: six>=1.12.0 in /usr/local/lib/python3.11/dist-packages (from tensorflow) (1.17.0)\n",
      "Requirement already satisfied: termcolor>=1.1.0 in /usr/local/lib/python3.11/dist-packages (from tensorflow) (3.1.0)\n",
      "Requirement already satisfied: typing-extensions>=3.6.6 in /usr/local/lib/python3.11/dist-packages (from tensorflow) (4.14.1)\n",
      "Requirement already satisfied: wrapt>=1.11.0 in /usr/local/lib/python3.11/dist-packages (from tensorflow) (1.17.2)\n",
      "Requirement already satisfied: grpcio<2.0,>=1.24.3 in /usr/local/lib/python3.11/dist-packages (from tensorflow) (1.74.0)\n",
      "Requirement already satisfied: tensorboard<2.19,>=2.18 in /usr/local/lib/python3.11/dist-packages (from tensorflow) (2.18.0)\n",
      "Requirement already satisfied: keras>=3.5.0 in /usr/local/lib/python3.11/dist-packages (from tensorflow) (3.8.0)\n",
      "Requirement already satisfied: h5py>=3.11.0 in /usr/local/lib/python3.11/dist-packages (from tensorflow) (3.14.0)\n",
      "Requirement already satisfied: ml-dtypes<0.5.0,>=0.4.0 in /usr/local/lib/python3.11/dist-packages (from tensorflow) (0.4.1)\n",
      "Requirement already satisfied: tensorflow-io-gcs-filesystem>=0.23.1 in /usr/local/lib/python3.11/dist-packages (from tensorflow) (0.37.1)\n",
      "Requirement already satisfied: wheel<1.0,>=0.23.0 in /usr/local/lib/python3.11/dist-packages (from astunparse>=1.6.0->tensorflow) (0.45.1)\n",
      "Requirement already satisfied: rich in /usr/local/lib/python3.11/dist-packages (from keras>=3.5.0->tensorflow) (13.9.4)\n",
      "Requirement already satisfied: namex in /usr/local/lib/python3.11/dist-packages (from keras>=3.5.0->tensorflow) (0.1.0)\n",
      "Requirement already satisfied: optree in /usr/local/lib/python3.11/dist-packages (from keras>=3.5.0->tensorflow) (0.17.0)\n",
      "Requirement already satisfied: charset-normalizer<4,>=2 in /usr/local/lib/python3.11/dist-packages (from requests<3,>=2.21.0->tensorflow) (3.4.2)\n",
      "Requirement already satisfied: idna<4,>=2.5 in /usr/local/lib/python3.11/dist-packages (from requests<3,>=2.21.0->tensorflow) (3.10)\n",
      "Requirement already satisfied: urllib3<3,>=1.21.1 in /usr/local/lib/python3.11/dist-packages (from requests<3,>=2.21.0->tensorflow) (2.5.0)\n",
      "Requirement already satisfied: certifi>=2017.4.17 in /usr/local/lib/python3.11/dist-packages (from requests<3,>=2.21.0->tensorflow) (2025.7.14)\n",
      "Requirement already satisfied: markdown>=2.6.8 in /usr/local/lib/python3.11/dist-packages (from tensorboard<2.19,>=2.18->tensorflow) (3.8.2)\n",
      "Requirement already satisfied: tensorboard-data-server<0.8.0,>=0.7.0 in /usr/local/lib/python3.11/dist-packages (from tensorboard<2.19,>=2.18->tensorflow) (0.7.2)\n",
      "Requirement already satisfied: werkzeug>=1.0.1 in /usr/local/lib/python3.11/dist-packages (from tensorboard<2.19,>=2.18->tensorflow) (3.1.3)\n",
      "Requirement already satisfied: MarkupSafe>=2.1.1 in /usr/local/lib/python3.11/dist-packages (from werkzeug>=1.0.1->tensorboard<2.19,>=2.18->tensorflow) (3.0.2)\n",
      "Requirement already satisfied: markdown-it-py>=2.2.0 in /usr/local/lib/python3.11/dist-packages (from rich->keras>=3.5.0->tensorflow) (3.0.0)\n",
      "Requirement already satisfied: pygments<3.0.0,>=2.13.0 in /usr/local/lib/python3.11/dist-packages (from rich->keras>=3.5.0->tensorflow) (2.19.2)\n",
      "Requirement already satisfied: mdurl~=0.1 in /usr/local/lib/python3.11/dist-packages (from markdown-it-py>=2.2.0->rich->keras>=3.5.0->tensorflow) (0.1.2)\n",
      "Downloading hydroeval-0.1.0-py3-none-any.whl (22 kB)\n",
      "Installing collected packages: hydroeval\n",
      "Successfully installed hydroeval-0.1.0\n"
     ]
    }
   ],
   "source": [
    "!pip install pandas numpy matplotlib seaborn hydroeval scikit-learn tensorflow"
   ]
  },
  {
   "cell_type": "code",
   "execution_count": 8,
   "metadata": {
    "colab": {
     "base_uri": "https://localhost:8080/"
    },
    "id": "L38WqkOJ0EHi",
    "outputId": "d25ce460-dc7b-42b3-8a81-58365078e1d0"
   },
   "outputs": [
    {
     "name": "stdout",
     "output_type": "stream",
     "text": [
      " All available basins: [11, 21, 22, 30, 31, 32, 35, 37, 42, 44, 46, 51, 52, 90, 91]\n"
     ]
    }
   ],
   "source": [
    "import os\n",
    "import re\n",
    "import json\n",
    "from glob import glob\n",
    "import random\n",
    "import numpy as np\n",
    "import pandas as pd\n",
    "import seaborn as sns\n",
    "import shutil\n",
    "import matplotlib.pyplot as plt\n",
    "from datetime import datetime, timedelta\n",
    "from sklearn.preprocessing import StandardScaler\n",
    "import tensorflow as tf\n",
    "from tensorflow.keras import Input\n",
    "from tensorflow.keras.models import Sequential\n",
    "from tensorflow.keras.layers import LSTM, Dense, Dropout, Activation\n",
    "from tensorflow.keras.optimizers import Adam\n",
    "from tensorflow.keras.callbacks import EarlyStopping, ModelCheckpoint\n",
    "import hydroeval as he\n",
    "from hydroeval import evaluator, kge, nse\n",
    "from tqdm import tqdm\n",
    "\n",
    "\n",
    "# Random seed setting (for consistency)\n",
    "random.seed(42)\n",
    "np.random.seed(42)\n",
    "tf.random.set_seed(42)\n",
    "os.environ['TF_DETERMINISTIC_OPS'] = '1'\n",
    "tf.config.experimental.enable_op_determinism()\n",
    "\n",
    "#\n",
    "df = pd.read_csv(\"/content/Df_Amz_all.csv\", index_col=0)\n",
    "df['date'] = pd.to_datetime(df['date'])\n",
    "\n",
    "basin_ids = sorted(df[\"ID_CABra\"].unique().tolist())\n",
    "print(\" All available basins:\", basin_ids)\n"
   ]
  },
  {
   "cell_type": "code",
   "execution_count": 9,
   "metadata": {
    "colab": {
     "base_uri": "https://localhost:8080/"
    },
    "id": "zTnPum8F0XqL",
    "outputId": "acc73fa4-bb70-48a2-c355-7b45ab8d991a"
   },
   "outputs": [
    {
     "name": "stdout",
     "output_type": "stream",
     "text": [
      "\n",
      " Training final model with variables: ['prec_ref', 'pet_pm', 'elev_mean', 'q_mean_mm']\n",
      "Shapes: (6485, 90, 18) (6485,) (2192, 90, 18) (2192,) (2191, 90, 18) (2191,)\n",
      "X_train passed check. Shape: (6485, 90, 18)\n",
      "y_train passed check. Shape: (6485,)\n",
      "X_val passed check. Shape: (2192, 90, 18)\n",
      "y_val passed check. Shape: (2192,)\n"
     ]
    }
   ],
   "source": [
    "#Time Interval and Sliding Window Offset Settings\n",
    "LOOKBACK = 90\n",
    "DATE_TRAIN = (\"1980-10-01\", \"1998-09-30\")\n",
    "DATE_VAL   = (\"1998-10-01\", \"2004-09-30\")\n",
    "DATE_TEST  = (\"2004-10-01\", \"2010-09-30\")\n",
    "\n",
    "shift = LOOKBACK - 1\n",
    "DATE_VAL_SHIFTED = (\n",
    "    (datetime.strptime(DATE_VAL[0], \"%Y-%m-%d\") - timedelta(days=shift)).strftime(\"%Y-%m-%d\"),\n",
    "    DATE_VAL[1]\n",
    ")\n",
    "DATE_TEST_SHIFTED = (\n",
    "    (datetime.strptime(DATE_TEST[0], \"%Y-%m-%d\") - timedelta(days=shift)).strftime(\"%Y-%m-%d\"),\n",
    "    DATE_TEST[1]\n",
    ")\n",
    "\n",
    "ALL_DYNAMIC = [\"prec_ref\", \"pet_pm\"]\n",
    "ALL_STATIC = [\n",
    "    \"clim_tmin\",\"clim_tmax\",\"clim_pmm\",\"clim_petmm_day\",\n",
    "    \"aridity_index\",\"q_mean_mm\",\"runoff_coef\",\"baseflow_index\",\n",
    "    \"cover_urban_%\",\"cover_crops_%\",\"res_number\",\"hdisturb_index\",\n",
    "    \"catch_area\",\"elev_mean\",\"catch_slope\",\"catch_order\"\n",
    "]\n",
    "ALL_FEATURES = ALL_DYNAMIC + ALL_STATIC\n",
    "TARGET = \"Qmm\"\n",
    "selected_features = ALL_FEATURES\n",
    "static_features = [f for f in selected_features if f not in ALL_DYNAMIC]\n",
    "\n",
    "FINAL_VARS = [\"prec_ref\", \"pet_pm\", \"elev_mean\", \"q_mean_mm\"]\n",
    "print(f\"\\n Training final model with variables: {FINAL_VARS}\")\n",
    "\n",
    "basin_ids = [31]\n",
    "df_filtered = df[df[\"ID_CABra\"].isin(basin_ids)].copy()\n",
    "\n",
    "\n",
    "shift = LOOKBACK - 1\n",
    "\n",
    "DATE_VAL_SHIFTED = (\n",
    "    (datetime.strptime(DATE_VAL[0], \"%Y-%m-%d\") - timedelta(days=shift)).strftime(\"%Y-%m-%d\"),\n",
    "    DATE_VAL[1]\n",
    ")\n",
    "DATE_TEST_SHIFTED = (\n",
    "    (datetime.strptime(DATE_TEST[0], \"%Y-%m-%d\") - timedelta(days=shift)).strftime(\"%Y-%m-%d\"),\n",
    "    DATE_TEST[1]\n",
    ")\n",
    "\n",
    "train_data = df_filtered[(df_filtered[\"date\"] >= DATE_TRAIN[0]) & (df_filtered[\"date\"] <= DATE_TRAIN[1])].copy()\n",
    "val_data = df_filtered[(df_filtered[\"date\"] >= DATE_VAL_SHIFTED[0]) & (df_filtered[\"date\"] <= DATE_VAL_SHIFTED[1])].copy()\n",
    "test_data = df_filtered[(df_filtered[\"date\"] >= DATE_TEST_SHIFTED[0]) & (df_filtered[\"date\"] <= DATE_TEST_SHIFTED[1])].copy()\n",
    "\n",
    "\n",
    "scaler = StandardScaler()\n",
    "scaler.fit(train_data[static_features])\n",
    "\n",
    "train_data.loc[:, static_features] = scaler.transform(train_data[static_features])\n",
    "val_data.loc[:, static_features] = scaler.transform(val_data[static_features])\n",
    "test_data.loc[:, static_features] = scaler.transform(test_data[static_features])\n",
    "\n",
    "train_std = train_data.copy()\n",
    "val_std   = val_data.copy()\n",
    "test_std  = test_data.copy()\n",
    "\n",
    "\n",
    "#Window Construction Function\n",
    "def create_sequences(df, features, target, lookback):\n",
    "    data = df[features].values\n",
    "    labels = df[target].values\n",
    "    n = len(df) - lookback + 1\n",
    "    X = np.zeros((n, lookback, len(features)), dtype=np.float32)\n",
    "    y = np.zeros(n, dtype=np.float32)\n",
    "    for i in range(n):\n",
    "        X[i] = data[i:i+lookback]\n",
    "        y[i] = labels[i+lookback-1]\n",
    "    return X, y\n",
    "\n",
    "X_train_list, y_train_list = [], []\n",
    "X_val_list, y_val_list = [], []\n",
    "X_test_list, y_test_list = [], []\n",
    "\n",
    "for basin in basin_ids:\n",
    "    train_basin = train_std[train_std[\"ID_CABra\"] == basin]\n",
    "    val_basin   = val_std[val_std[\"ID_CABra\"] == basin]\n",
    "    test_basin  = test_std[test_std[\"ID_CABra\"] == basin]\n",
    "\n",
    "    X_tr, y_tr = create_sequences(train_basin, selected_features, TARGET, LOOKBACK)\n",
    "    X_vl, y_vl = create_sequences(val_basin, selected_features, TARGET, LOOKBACK)\n",
    "    X_te, y_te = create_sequences(test_basin, selected_features, TARGET, LOOKBACK)\n",
    "\n",
    "    X_train_list.append(X_tr)\n",
    "    y_train_list.append(y_tr)\n",
    "    X_val_list.append(X_vl)\n",
    "    y_val_list.append(y_vl)\n",
    "    X_test_list.append(X_te)\n",
    "    y_test_list.append(y_te)\n",
    "\n",
    "X_train = np.concatenate(X_train_list, axis=0)\n",
    "y_train = np.concatenate(y_train_list, axis=0)\n",
    "X_val = np.concatenate(X_val_list, axis=0)\n",
    "y_val = np.concatenate(y_val_list, axis=0)\n",
    "X_test = np.concatenate(X_test_list, axis=0)\n",
    "y_test = np.concatenate(y_test_list, axis=0)\n",
    "\n",
    "print(\"Shapes:\", X_train.shape, y_train.shape, X_val.shape, y_val.shape, X_test.shape, y_test.shape)\n",
    "\n",
    "def check_data(data, name=\"Data\"):\n",
    "    if np.any(np.isnan(data)):\n",
    "        raise ValueError(f\"{name} contains NaN.\")\n",
    "    if np.any(np.isinf(data)):\n",
    "        raise ValueError(f\"{name} contains Inf.\")\n",
    "    print(f\"{name} passed check. Shape: {data.shape}\")\n",
    "\n",
    "check_data(X_train, \"X_train\")\n",
    "check_data(y_train, \"y_train\")\n",
    "check_data(X_val, \"X_val\")\n",
    "check_data(y_val, \"y_val\")"
   ]
  },
  {
   "cell_type": "code",
   "execution_count": 10,
   "metadata": {
    "colab": {
     "base_uri": "https://localhost:8080/"
    },
    "id": "31nA7sR43Pq5",
    "outputId": "d5f01435-71cf-44e2-a2e9-7324706ddde2"
   },
   "outputs": [
    {
     "name": "stdout",
     "output_type": "stream",
     "text": [
      "X_train_final passed check. Shape: (6485, 90, 4)\n",
      "X_val_final passed check. Shape: (2192, 90, 4)\n",
      "X_test_final passed check. Shape: (2191, 90, 4)\n"
     ]
    }
   ],
   "source": [
    "# Prepare Data\n",
    "train_final = train_std[FINAL_VARS + [TARGET]].copy()\n",
    "val_final   = val_std[FINAL_VARS + [TARGET]].copy()\n",
    "test_final  = test_std[FINAL_VARS + [TARGET]].copy()\n",
    "\n",
    "X_train_final, y_train_final = create_sequences(train_final, FINAL_VARS, TARGET, LOOKBACK)\n",
    "X_val_final,   y_val_final   = create_sequences(val_final, FINAL_VARS, TARGET, LOOKBACK)\n",
    "X_test_final,  y_test_final  = create_sequences(test_final, FINAL_VARS, TARGET, LOOKBACK)\n",
    "\n",
    "check_data(X_train_final, \"X_train_final\")\n",
    "check_data(X_val_final, \"X_val_final\")\n",
    "check_data(X_test_final, \"X_test_final\")"
   ]
  },
  {
   "cell_type": "code",
   "execution_count": 11,
   "metadata": {
    "id": "GHDdMdbJ5G4s"
   },
   "outputs": [],
   "source": [
    "# Base Model Definition\n",
    "#Model Definition\n",
    "def make_model(lookback, num_feats, units, dp, lr):\n",
    "    m = Sequential([\n",
    "        Input(shape=(lookback, num_feats)),\n",
    "        LSTM(units),\n",
    "        Dropout(dp),\n",
    "        Dense(1),\n",
    "        Activation('relu')\n",
    "    ])\n",
    "    m.compile(\n",
    "        loss='mean_squared_error',\n",
    "        optimizer=Adam(learning_rate=lr),\n",
    "        metrics=['mean_squared_error']\n",
    "    )\n",
    "    return m\n",
    "\n",
    "def concordance_correlation_coefficient(y_true, y_pred):\n",
    "    y_true = np.asarray(y_true)\n",
    "    y_pred = np.asarray(y_pred)\n",
    "    mask = ~np.isnan(y_true) & ~np.isnan(y_pred)\n",
    "    y_true = y_true[mask]\n",
    "    y_pred = y_pred[mask]\n",
    "    mean_t = y_true.mean()\n",
    "    mean_p = y_pred.mean()\n",
    "    cov = np.mean((y_true - mean_t) * (y_pred - mean_p))\n",
    "    var_t = y_true.var()\n",
    "    var_p = y_pred.var()\n",
    "    return (2 * cov) / (var_t + var_p + (mean_t - mean_p)**2 + 1e-8)\n",
    "\n",
    "def evaluate_model(model, X_val, y_val, name=\"Validation\"):\n",
    "    y_pred = model.predict(X_val).flatten()\n",
    "    kge_val = float(np.atleast_1d(evaluator(kge, y_pred, y_val)).flatten()[0])\n",
    "    nse_val = float(np.atleast_1d(evaluator(nse, y_pred, y_val)).flatten()[0])\n",
    "    ccc_val = float(concordance_correlation_coefficient(y_val, y_pred))\n",
    "    print(f\"[{name}] KGE: {kge_val:.3f}, NSE: {nse_val:.3f}, CCC: {ccc_val:.3f}\")\n",
    "    return {\n",
    "        \"KGE\": kge_val,\n",
    "        \"NSE\": nse_val,\n",
    "        \"CCC\": ccc_val,\n",
    "        \"y_pred\": y_pred\n",
    "    }"
   ]
  },
  {
   "cell_type": "code",
   "execution_count": 12,
   "metadata": {
    "colab": {
     "base_uri": "https://localhost:8080/",
     "height": 77
    },
    "id": "HQnTv50x4eYa",
    "outputId": "7b8f0ca5-dc75-40b8-fddb-3dd7ba0ac99e"
   },
   "outputs": [
    {
     "data": {
      "text/html": [
       "\n",
       "     <input type=\"file\" id=\"files-805c3209-d47f-4f82-a185-a637510c96dc\" name=\"files[]\" multiple disabled\n",
       "        style=\"border:none\" />\n",
       "     <output id=\"result-805c3209-d47f-4f82-a185-a637510c96dc\">\n",
       "      Upload widget is only available when the cell has been executed in the\n",
       "      current browser session. Please rerun this cell to enable.\n",
       "      </output>\n",
       "      <script>// Copyright 2017 Google LLC\n",
       "//\n",
       "// Licensed under the Apache License, Version 2.0 (the \"License\");\n",
       "// you may not use this file except in compliance with the License.\n",
       "// You may obtain a copy of the License at\n",
       "//\n",
       "//      http://www.apache.org/licenses/LICENSE-2.0\n",
       "//\n",
       "// Unless required by applicable law or agreed to in writing, software\n",
       "// distributed under the License is distributed on an \"AS IS\" BASIS,\n",
       "// WITHOUT WARRANTIES OR CONDITIONS OF ANY KIND, either express or implied.\n",
       "// See the License for the specific language governing permissions and\n",
       "// limitations under the License.\n",
       "\n",
       "/**\n",
       " * @fileoverview Helpers for google.colab Python module.\n",
       " */\n",
       "(function(scope) {\n",
       "function span(text, styleAttributes = {}) {\n",
       "  const element = document.createElement('span');\n",
       "  element.textContent = text;\n",
       "  for (const key of Object.keys(styleAttributes)) {\n",
       "    element.style[key] = styleAttributes[key];\n",
       "  }\n",
       "  return element;\n",
       "}\n",
       "\n",
       "// Max number of bytes which will be uploaded at a time.\n",
       "const MAX_PAYLOAD_SIZE = 100 * 1024;\n",
       "\n",
       "function _uploadFiles(inputId, outputId) {\n",
       "  const steps = uploadFilesStep(inputId, outputId);\n",
       "  const outputElement = document.getElementById(outputId);\n",
       "  // Cache steps on the outputElement to make it available for the next call\n",
       "  // to uploadFilesContinue from Python.\n",
       "  outputElement.steps = steps;\n",
       "\n",
       "  return _uploadFilesContinue(outputId);\n",
       "}\n",
       "\n",
       "// This is roughly an async generator (not supported in the browser yet),\n",
       "// where there are multiple asynchronous steps and the Python side is going\n",
       "// to poll for completion of each step.\n",
       "// This uses a Promise to block the python side on completion of each step,\n",
       "// then passes the result of the previous step as the input to the next step.\n",
       "function _uploadFilesContinue(outputId) {\n",
       "  const outputElement = document.getElementById(outputId);\n",
       "  const steps = outputElement.steps;\n",
       "\n",
       "  const next = steps.next(outputElement.lastPromiseValue);\n",
       "  return Promise.resolve(next.value.promise).then((value) => {\n",
       "    // Cache the last promise value to make it available to the next\n",
       "    // step of the generator.\n",
       "    outputElement.lastPromiseValue = value;\n",
       "    return next.value.response;\n",
       "  });\n",
       "}\n",
       "\n",
       "/**\n",
       " * Generator function which is called between each async step of the upload\n",
       " * process.\n",
       " * @param {string} inputId Element ID of the input file picker element.\n",
       " * @param {string} outputId Element ID of the output display.\n",
       " * @return {!Iterable<!Object>} Iterable of next steps.\n",
       " */\n",
       "function* uploadFilesStep(inputId, outputId) {\n",
       "  const inputElement = document.getElementById(inputId);\n",
       "  inputElement.disabled = false;\n",
       "\n",
       "  const outputElement = document.getElementById(outputId);\n",
       "  outputElement.innerHTML = '';\n",
       "\n",
       "  const pickedPromise = new Promise((resolve) => {\n",
       "    inputElement.addEventListener('change', (e) => {\n",
       "      resolve(e.target.files);\n",
       "    });\n",
       "  });\n",
       "\n",
       "  const cancel = document.createElement('button');\n",
       "  inputElement.parentElement.appendChild(cancel);\n",
       "  cancel.textContent = 'Cancel upload';\n",
       "  const cancelPromise = new Promise((resolve) => {\n",
       "    cancel.onclick = () => {\n",
       "      resolve(null);\n",
       "    };\n",
       "  });\n",
       "\n",
       "  // Wait for the user to pick the files.\n",
       "  const files = yield {\n",
       "    promise: Promise.race([pickedPromise, cancelPromise]),\n",
       "    response: {\n",
       "      action: 'starting',\n",
       "    }\n",
       "  };\n",
       "\n",
       "  cancel.remove();\n",
       "\n",
       "  // Disable the input element since further picks are not allowed.\n",
       "  inputElement.disabled = true;\n",
       "\n",
       "  if (!files) {\n",
       "    return {\n",
       "      response: {\n",
       "        action: 'complete',\n",
       "      }\n",
       "    };\n",
       "  }\n",
       "\n",
       "  for (const file of files) {\n",
       "    const li = document.createElement('li');\n",
       "    li.append(span(file.name, {fontWeight: 'bold'}));\n",
       "    li.append(span(\n",
       "        `(${file.type || 'n/a'}) - ${file.size} bytes, ` +\n",
       "        `last modified: ${\n",
       "            file.lastModifiedDate ? file.lastModifiedDate.toLocaleDateString() :\n",
       "                                    'n/a'} - `));\n",
       "    const percent = span('0% done');\n",
       "    li.appendChild(percent);\n",
       "\n",
       "    outputElement.appendChild(li);\n",
       "\n",
       "    const fileDataPromise = new Promise((resolve) => {\n",
       "      const reader = new FileReader();\n",
       "      reader.onload = (e) => {\n",
       "        resolve(e.target.result);\n",
       "      };\n",
       "      reader.readAsArrayBuffer(file);\n",
       "    });\n",
       "    // Wait for the data to be ready.\n",
       "    let fileData = yield {\n",
       "      promise: fileDataPromise,\n",
       "      response: {\n",
       "        action: 'continue',\n",
       "      }\n",
       "    };\n",
       "\n",
       "    // Use a chunked sending to avoid message size limits. See b/62115660.\n",
       "    let position = 0;\n",
       "    do {\n",
       "      const length = Math.min(fileData.byteLength - position, MAX_PAYLOAD_SIZE);\n",
       "      const chunk = new Uint8Array(fileData, position, length);\n",
       "      position += length;\n",
       "\n",
       "      const base64 = btoa(String.fromCharCode.apply(null, chunk));\n",
       "      yield {\n",
       "        response: {\n",
       "          action: 'append',\n",
       "          file: file.name,\n",
       "          data: base64,\n",
       "        },\n",
       "      };\n",
       "\n",
       "      let percentDone = fileData.byteLength === 0 ?\n",
       "          100 :\n",
       "          Math.round((position / fileData.byteLength) * 100);\n",
       "      percent.textContent = `${percentDone}% done`;\n",
       "\n",
       "    } while (position < fileData.byteLength);\n",
       "  }\n",
       "\n",
       "  // All done.\n",
       "  yield {\n",
       "    response: {\n",
       "      action: 'complete',\n",
       "    }\n",
       "  };\n",
       "}\n",
       "\n",
       "scope.google = scope.google || {};\n",
       "scope.google.colab = scope.google.colab || {};\n",
       "scope.google.colab._files = {\n",
       "  _uploadFiles,\n",
       "  _uploadFilesContinue,\n",
       "};\n",
       "})(self);\n",
       "</script> "
      ],
      "text/plain": [
       "<IPython.core.display.HTML object>"
      ]
     },
     "metadata": {},
     "output_type": "display_data"
    },
    {
     "name": "stdout",
     "output_type": "stream",
     "text": [
      "Saving best_wts_FINAL4_u24_lr1e3_dp02_ID31_90d.h5 to best_wts_FINAL4_u24_lr1e3_dp02_ID31_90d.h5\n"
     ]
    }
   ],
   "source": [
    "from google.colab import files\n",
    "uploaded = files.upload()"
   ]
  },
  {
   "cell_type": "code",
   "execution_count": 13,
   "metadata": {
    "id": "ywww0aPX46QB"
   },
   "outputs": [],
   "source": [
    "units = 24\n",
    "lr = 1e-3\n",
    "dp = 0.2\n",
    "best_ckpt = \"/content/best_wts_FINAL4_u24_lr1e3_dp02_ID31_90d.h5\""
   ]
  },
  {
   "cell_type": "code",
   "execution_count": 14,
   "metadata": {
    "id": "oZUCVkAR5psr"
   },
   "outputs": [],
   "source": [
    "# Build the model and load the weights\n",
    "model = make_model(LOOKBACK, len(FINAL_VARS), units, dp, lr)\n",
    "model.load_weights(best_ckpt)"
   ]
  },
  {
   "cell_type": "code",
   "execution_count": 15,
   "metadata": {
    "id": "6LiNIcMd5zus"
   },
   "outputs": [],
   "source": [
    "X_ig, _ = create_sequences(val_std, FINAL_VARS, TARGET, LOOKBACK)\n",
    "\n",
    "feature_names = FINAL_VARS"
   ]
  },
  {
   "cell_type": "code",
   "execution_count": 16,
   "metadata": {
    "id": "7sV9B0cK552g"
   },
   "outputs": [],
   "source": [
    "def interpolate_inputs(baseline, input, alpha):\n",
    "    return baseline + alpha * (input - baseline)\n",
    "\n",
    "def compute_gradients(model, inputs):\n",
    "    with tf.GradientTape() as tape:\n",
    "        tape.watch(inputs)\n",
    "        predictions = model(inputs)\n",
    "    return tape.gradient(predictions, inputs)\n",
    "\n",
    "def integrated_gradients_single(model, baseline, input_tensor, m_steps=50):\n",
    "    alphas = tf.linspace(0.0, 1.0, m_steps)\n",
    "    integrated_grads = tf.zeros_like(input_tensor, dtype=tf.float32)\n",
    "    for alpha in alphas:\n",
    "        interpolated = interpolate_inputs(baseline, input_tensor, alpha)\n",
    "        grads = compute_gradients(model, interpolated)\n",
    "        integrated_grads += grads / m_steps\n",
    "    return (input_tensor - baseline) * integrated_grads\n",
    "\n",
    "def compute_integrated_gradients_all(model, X_input, feature_names,\n",
    "                                     baseline_type=\"zero\", m_steps=50,\n",
    "                                     save_csv_path=None, plot=True):\n",
    "    \"\"\"\n",
    "    Perform IG analysis on the entire sample set and output the variable importance matrix (lookback × features)\n",
    "    \"\"\"\n",
    "\n",
    "    assert X_input.ndim == 3, \"X_input must be 3D (samples, lookback, features)\"\n",
    "    assert len(feature_names) == X_input.shape[2], \"Feature name count mismatch\"\n",
    "\n",
    "    print(\" Running Integrated Gradients...\")\n",
    "\n",
    "    if baseline_type == \"mean\":\n",
    "        baseline = tf.convert_to_tensor(np.mean(X_input, axis=0, keepdims=True), dtype=tf.float32)\n",
    "    else:\n",
    "        baseline = tf.zeros_like(X_input[0:1], dtype=tf.float32)\n",
    "\n",
    "    all_importances = []\n",
    "    for i in tqdm(range(len(X_input)), desc=\" IG computing\"):\n",
    "        input_tensor = tf.convert_to_tensor(X_input[i:i+1], dtype=tf.float32)\n",
    "        ig_tensor = integrated_gradients_single(model, baseline, input_tensor, m_steps)\n",
    "        all_importances.append(ig_tensor.numpy().squeeze(0))\n",
    "\n",
    "    all_importances = np.array(all_importances)\n",
    "    mean_importance = np.mean(np.abs(all_importances), axis=0)\n",
    "    print(\" IG shape:\", mean_importance.shape)\n",
    "\n",
    "    df_importance = pd.DataFrame(mean_importance, columns=feature_names)\n",
    "\n",
    "    if save_csv_path:\n",
    "        os.makedirs(os.path.dirname(save_csv_path), exist_ok=True)\n",
    "        df_importance.to_csv(save_csv_path, index=False)\n",
    "        print(f\" Saved IG matrix to: {save_csv_path}\")\n",
    "\n",
    "    if plot:\n",
    "        # Bar chart (average importance)\n",
    "        plt.figure(figsize=(10, 6))\n",
    "        df_importance.mean().sort_values().plot(kind='barh', color='#4da6ff')\n",
    "        plt.title(\"Mean IG Feature Importance\", fontsize=13, weight='bold')\n",
    "        plt.xlabel(\"Mean IG Score\")\n",
    "        plt.grid(True, axis='x', linestyle='--', alpha=0.5)\n",
    "        plt.tight_layout()\n",
    "        if save_csv_path:\n",
    "            plt.savefig(save_csv_path.replace(\".csv\", \"_barh.png\"), dpi=300)\n",
    "        plt.show()\n",
    "\n",
    "        # heatmap（timestep × feature）\n",
    "        plt.figure(figsize=(10, 6))\n",
    "        plt.imshow(mean_importance.T, aspect='auto', cmap='viridis', origin='lower')\n",
    "        plt.colorbar(label='IG Importance')\n",
    "        plt.yticks(np.arange(len(feature_names)), feature_names)\n",
    "        plt.xlabel(\"Timestep\")\n",
    "        plt.title(\"IG Heatmap (time × feature)\", fontsize=13, weight='bold')\n",
    "        plt.tight_layout()\n",
    "        if save_csv_path:\n",
    "            plt.savefig(save_csv_path.replace(\".csv\", \"_heatmap.png\"), dpi=300)\n",
    "        plt.show()\n",
    "\n",
    "    return df_importance"
   ]
  },
  {
   "cell_type": "code",
   "execution_count": 17,
   "metadata": {
    "colab": {
     "base_uri": "https://localhost:8080/",
     "height": 1000
    },
    "id": "cx2WdcTm6V6b",
    "outputId": "104b70be-f366-4b4e-f766-6c4e1c869781"
   },
   "outputs": [
    {
     "name": "stdout",
     "output_type": "stream",
     "text": [
      " Running Integrated Gradients...\n"
     ]
    },
    {
     "name": "stderr",
     "output_type": "stream",
     "text": [
      " IG computing: 100%|██████████| 2192/2192 [34:16<00:00,  1.07it/s]\n"
     ]
    },
    {
     "name": "stdout",
     "output_type": "stream",
     "text": [
      " IG shape: (90, 4)\n",
      " Saved IG matrix to: ./IG_matrix_ID31.csv\n"
     ]
    },
    {
     "data": {
      "image/png": "[encoded data removed]",
      "text/plain": [
       "<Figure size 1000x600 with 1 Axes>"
      ]
     },
     "metadata": {},
     "output_type": "display_data"
    },
    {
     "data": {
      "image/png": "[encoded data removed]",
      "text/plain": [
       "<Figure size 1000x600 with 2 Axes>"
      ]
     },
     "metadata": {},
     "output_type": "display_data"
    }
   ],
   "source": [
    "# Integrated Gradients\n",
    "ig_result_df = compute_integrated_gradients_all(\n",
    "    model=model,\n",
    "    X_input=X_ig,\n",
    "    feature_names=feature_names,\n",
    "    baseline_type=\"zero\",       \n",
    "    m_steps=50,\n",
    "    save_csv_path=\"./IG_matrix_ID31.csv\",  \n",
    "    plot=True\n",
    ")"
   ]
  }
 ],
 "metadata": {
  "accelerator": "GPU",
  "colab": {
   "gpuType": "L4",
   "machine_shape": "hm",
   "provenance": []
  },
  "kernelspec": {
   "display_name": "Python 3",
   "language": "python",
   "name": "python3"
  },
  "language_info": {
   "codemirror_mode": {
    "name": "ipython",
    "version": 3
   },
   "file_extension": ".py",
   "mimetype": "text/x-python",
   "name": "python",
   "nbconvert_exporter": "python",
   "pygments_lexer": "ipython3",
   "version": "3.8.3"
  }
 },
 "nbformat": 4,
 "nbformat_minor": 1
}
